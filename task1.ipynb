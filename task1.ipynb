{
  "nbformat": 4,
  "nbformat_minor": 0,
  "metadata": {
    "colab": {
      "provenance": [],
      "authorship_tag": "ABX9TyPH+Il3H02/IMQqA9nTYvCr",
      "include_colab_link": true
    },
    "kernelspec": {
      "name": "python3",
      "display_name": "Python 3"
    },
    "language_info": {
      "name": "python"
    }
  },
  "cells": [
    {
      "cell_type": "markdown",
      "metadata": {
        "id": "view-in-github",
        "colab_type": "text"
      },
      "source": [
        "<a href=\"https://colab.research.google.com/github/lekh-ch/Internship-Task1/blob/main/task1.ipynb\" target=\"_parent\"><img src=\"https://colab.research.google.com/assets/colab-badge.svg\" alt=\"Open In Colab\"/></a>"
      ]
    },
    {
      "cell_type": "code",
      "execution_count": 4,
      "metadata": {
        "colab": {
          "base_uri": "https://localhost:8080/"
        },
        "id": "h1nWTRV6QrA5",
        "outputId": "64990e0f-bb5b-440e-81a9-6e57b3e68d4e"
      },
      "outputs": [
        {
          "output_type": "stream",
          "name": "stdout",
          "text": [
            "Welcome to the Random Username Generator!\n",
            "Include numbers? (y/n): y\n",
            "Include special characters? (y/n): y\n",
            "How many usernames to generate? 5\n",
            "\n",
            "Generated Usernames:\n",
            "AmazingEagle29&\n",
            "FunnyShark66*\n",
            "MightyDragon23&\n",
            "MightyWolf81$\n",
            "FunnyHawk79^\n",
            "\n",
            "Usernames saved to my_usernames.txt\n"
          ]
        }
      ],
      "source": [
        "import random\n",
        "\n",
        "def generate_username(use_numbers=False, use_special_chars=False):\n",
        "  \"\"\"Generates a random username by combining adjectives and nouns.\"\"\"\n",
        "\n",
        "  adjectives = [\"Cool\", \"Happy\", \"Brave\", \"Smart\", \"Funny\", \"Amazing\", \"Swift\", \"Mighty\"]\n",
        "  nouns = [\"Tiger\", \"Dragon\", \"Eagle\", \"Wolf\", \"Hawk\", \"Lion\", \"Bear\", \"Shark\"]\n",
        "\n",
        "  adjective = random.choice(adjectives)\n",
        "  noun = random.choice(nouns)\n",
        "\n",
        "  username = adjective + noun\n",
        "\n",
        "  if use_numbers:\n",
        "    username += str(random.randint(10, 99))\n",
        "\n",
        "  if use_special_chars:\n",
        "    special_chars = \"!@#$%^&*?\"\n",
        "    username += random.choice(special_chars)\n",
        "\n",
        "  return username\n",
        "\n",
        "def save_usernames(usernames, filename=\"usernames.txt\"):\n",
        "  \"\"\"Saves a list of usernames to a text file.\"\"\"\n",
        "  with open(filename, 'w') as f:\n",
        "    for username in usernames:\n",
        "      f.write(username + \"\\n\")\n",
        "\n",
        "def main():\n",
        "  print(\"Welcome to the Random Username Generator!\")\n",
        "\n",
        "  use_numbers = input(\"Include numbers? (y/n): \").lower() == 'y'\n",
        "  use_special_chars = input(\"Include special characters? (y/n): \").lower() == 'y'\n",
        "\n",
        "  num_usernames = int(input(\"How many usernames to generate? \"))\n",
        "\n",
        "  usernames = []\n",
        "  for _ in range(num_usernames):\n",
        "    usernames.append(generate_username(use_numbers, use_special_chars))\n",
        "\n",
        "  print(\"\\nGenerated Usernames:\")\n",
        "  for username in usernames:\n",
        "    print(username)\n",
        "\n",
        "  filename = \"my_usernames.txt\"  # Assign a value to filename\n",
        "  save_usernames(usernames, filename)\n",
        "  print(f\"\\nUsernames saved to {filename}\")\n",
        "\n",
        "if __name__ == \"__main__\":\n",
        "  main()"
      ]
    }
  ]
}